{
 "cells": [
  {
   "cell_type": "code",
   "execution_count": 121,
   "metadata": {},
   "outputs": [
    {
     "name": "stdout",
     "output_type": "stream",
     "text": [
      "[Errno 2] No such file or directory: 'datasets/'\n",
      "/home/nadia/datasets\n"
     ]
    }
   ],
   "source": [
    "cd datasets/"
   ]
  },
  {
   "cell_type": "markdown",
   "metadata": {},
   "source": [
    "# Téléchargement \n",
    "- `read_csv` : pour charger le fichier csv.\n",
    "-  `[...]`:  pour le format de notre csv.\n",
    "- la première colonne du CSV a pour index 0.\n",
    "- `parse_date` :  Le format des dates sera déduit automatiquement 01/02/2020.\n",
    "- `dayfirst` : En Usa le 01/02/2020 = 2 janvier et donc en Europe il faut preciser que le 01 = jour pour cela `dayfirst = True`.\n",
    "- `sep`  et  `decimal`  : Si les colonnes ne sont pas séparées par des virgules, ou si le délimiteur des décimales n'est pas le point.\n",
    "- `header`  : Si le fichier ne contient pas d'en-tête, alors il faudra préciser  `header=None`.\n"
   ]
  },
  {
   "cell_type": "code",
   "execution_count": 122,
   "metadata": {},
   "outputs": [],
   "source": [
    "import pandas as pd\n",
    "data1 = pd.read_csv(\"operations.csv\")\n",
    "data1= pd.read_csv(\"operations.csv\",parse_dates=[1,2])\n",
    "data = pd.read_csv(\"operations.csv\",parse_dates=[1,2],header = None)\n",
    "#data3 = pd.read_csv(\"operations.csv\",parse_dates=[1,2],sep= ';',\n",
    "#    decimal= ',', dayfirst=True)"
   ]
  },
  {
   "cell_type": "markdown",
   "metadata": {},
   "source": [
    "# Renommer les colonnes \n"
   ]
  },
  {
   "cell_type": "code",
   "execution_count": 123,
   "metadata": {},
   "outputs": [],
   "source": [
    "data.columns = ['identifiant_transaction','date_operation','date_valeur','libelle','debit','credit','solde']"
   ]
  },
  {
   "cell_type": "code",
   "execution_count": 124,
   "metadata": {},
   "outputs": [],
   "source": [
    "# Controle des colonnes\n",
    "for c in ['date_operation','libelle','debit','credit']:\n",
    "    if c not in data.columns:\n",
    "        if (c in ['debit','credit'] and 'montant' not in data.columns) or \\\n",
    "        (c not in ['debit','credit']):\n",
    "            msg = \"Il vous manque la colonne '{}'. Attention aux majuscules \"\n",
    "            msg += \"et minuscules dans le nom des colonnes!\"\n",
    "            raise Exception(msg.format(c))"
   ]
  },
  {
   "cell_type": "markdown",
   "metadata": {},
   "source": [
    "# Suppression des colonnes innutiles"
   ]
  },
  {
   "cell_type": "code",
   "execution_count": 125,
   "metadata": {},
   "outputs": [],
   "source": [
    "for c in data.columns:\n",
    "    if c not in ['date_operation','libelle','debit','credit','montant']:\n",
    "        del data[c]"
   ]
  },
  {
   "cell_type": "markdown",
   "metadata": {},
   "source": [
    "# Ajout de la colonne 'montant' si besoin"
   ]
  },
  {
   "cell_type": "code",
   "execution_count": 126,
   "metadata": {},
   "outputs": [],
   "source": [
    "# if 'montant' not in data.columns:\n",
    "#    data[\"debit\"] = data[\"debit\"].fillna(0)\n",
    "#    data[\"credit\"] = data[\"credit\"].fillna(0)\n",
    "#    data[\"montant\"] = data[\"debit\"] + data[\"credit\"]\n",
    "#    del data[\"credit\"], data[\"debit\"]"
   ]
  },
  {
   "cell_type": "markdown",
   "metadata": {},
   "source": [
    "# Création de la variable 'solde_avt_ope'"
   ]
  },
  {
   "cell_type": "code",
   "execution_count": 127,
   "metadata": {},
   "outputs": [],
   "source": [
    "#data = data.sort_values(\"date_operation\")\n",
    "#amount = data[\"montant\"]\n",
    "#balance = amount.cumsum()\n",
    "#balance = list(balance.values)\n",
    "#last_val = balance[-1]\n",
    "#balance = [0] + balance[:-1]\n",
    "#data[\"solde_avt_ope\"] = balance"
   ]
  },
  {
   "cell_type": "markdown",
   "metadata": {},
   "source": [
    "# Création des autres variables"
   ]
  },
  {
   "cell_type": "code",
   "execution_count": 128,
   "metadata": {},
   "outputs": [],
   "source": [
    "#data[\"annee\"] = data[\"date_operation\"].map(lambda d: d.year)\n",
    "#data[\"mois\"] = data[\"date_operation\"].map(lambda d: d.month)\n",
    "#data[\"jour\"] = data[\"date_operation\"].map(lambda d: d.day)\n",
    "#data[\"jour_sem\"] = data[\"date_operation\"].map(lambda d: d.day_name)\n",
    "#data[\"jour_sem_num\"] = data[\"date_operation\"].map(lambda d: d.weekday()+1)\n",
    "#data[\"weekend\"] = data[\"jour_sem\"].isin(WEEKEND)\n",
    "#data[\"quart_mois\"] = [int((jour-1)*4/31)+1 for jour in data[\"jour\"]]"
   ]
  },
  {
   "cell_type": "markdown",
   "metadata": {},
   "source": [
    "# Enregistrement au format CSV"
   ]
  },
  {
   "cell_type": "code",
   "execution_count": 129,
   "metadata": {},
   "outputs": [],
   "source": [
    "data.to_csv(\"operations_enrichies.csv\",index=False)"
   ]
  },
  {
   "cell_type": "markdown",
   "metadata": {},
   "source": [
    "# Les types des variables \n",
    "- les variables quantitative : représenteent une quantité ( ex : montant)\n",
    " - Discrète : nbre de valeurs possibles dénombrables (ex les nombres entiers : nbre des valeurs possibles est fini : 1, 2, 3).\n",
    " - Continue : les valeurs sont sur une echelle continue (infinité de valeurs possibles entre 10 et 1)\n",
    "- Les variables qualitatives : les valeurs possibles sont des `catégorie` = `des modalités`\n",
    "        "
   ]
  },
  {
   "cell_type": "markdown",
   "metadata": {},
   "source": [
    "# Les représentation graphiques \n",
    "- Pour une variables quantitative discrète = diagramme en bâtons\n",
    "- Pour une variable qualitative = diagramme en tuyaux d'orgue\n",
    "- pour une variable continue = histogramme ( découpage en classe)"
   ]
  },
  {
   "cell_type": "code",
   "execution_count": 130,
   "metadata": {},
   "outputs": [
    {
     "data": {
      "image/png": "[encoded data removed]",
      "text/plain": [
       "<matplotlib.figure.Figure at 0x7fa044820810>"
      ]
     },
     "metadata": {},
     "output_type": "display_data"
    },
    {
     "data": {
      "image/png": "[encoded data removed]",
      "text/plain": [
       "<matplotlib.figure.Figure at 0x7fa044870710>"
      ]
     },
     "metadata": {
      "needs_background": "light"
     },
     "output_type": "display_data"
    },
    {
     "data": {
      "image/png": "[encoded data removed]",
      "text/plain": [
       "<matplotlib.figure.Figure at 0x7fa04472e410>"
      ]
     },
     "metadata": {
      "needs_background": "light"
     },
     "output_type": "display_data"
    },
    {
     "data": {
      "image/png": "[encoded data removed]",
      "text/plain": [
       "<matplotlib.figure.Figure at 0x7fa0447c29d0>"
      ]
     },
     "metadata": {
      "needs_background": "light"
     },
     "output_type": "display_data"
    },
    {
     "data": {
      "image/png": "[encoded data removed]",
      "text/plain": [
       "<matplotlib.figure.Figure at 0x7fa044651490>"
      ]
     },
     "metadata": {
      "needs_background": "light"
     },
     "output_type": "display_data"
    }
   ],
   "source": [
    "import matplotlib.pyplot as plt\n",
    "\n",
    "# VARIABLE QUALITATIVE\n",
    "# Diagramme en secteurs\n",
    "data12[\"categ\"].value_counts(normalize=True).plot(kind='pie')\n",
    "# Cette ligne assure que le pie chart est un cercle plutôt qu'une éllipse\n",
    "plt.axis('equal') \n",
    "plt.show() # Affiche le graphique\n",
    "\n",
    "# Diagramme en tuyaux d'orgues\n",
    "data12[\"categ\"].value_counts(normalize=True).plot(kind='bar')\n",
    "plt.show()\n",
    "\n",
    "# VARIABLE QUANTITATIVE\n",
    "# Diagramme en bâtons\n",
    "data12[\"quart_mois\"].value_counts(normalize=True).plot(kind='bar',width=0.1)\n",
    "plt.show()\n",
    "\n",
    "# Histogramme\n",
    "data12[\"montant\"].hist(density=True)\n",
    "plt.show()\n",
    "# Histogramme plus beau\n",
    "data12[data12.montant.abs() < 100][\"montant\"].hist(density=True,bins=20)\n",
    "plt.show()"
   ]
  },
  {
   "cell_type": "markdown",
   "metadata": {},
   "source": [
    "# Les effectifs / La fréquence / La fréquence cumulée "
   ]
  },
  {
   "cell_type": "markdown",
   "metadata": {},
   "source": [
    "- `data12['categ'].value_counts()` = compter les effectifs des modalités dans la variable `categ`.\n",
    "                                   = le nombre d'apparition des diffèrents mots dans `categ`.\n",
    "- La fréquence = l'effectif / la taille de l'échantillion = `tab[\"effectif\"] / len(data)`\n",
    "- La fréquence cumulée = trier les lignes selon les modalités de notre variable et puis calculer la somme cumulée des fréquences (La fréquence cumulée d'une modalité ai , c'est juste la somme des fréquences de toutes les modalités inférieures ou égales à ai)."
   ]
  },
  {
   "cell_type": "code",
   "execution_count": 160,
   "metadata": {
    "scrolled": true
   },
   "outputs": [
    {
     "data": {
      "text/plain": [
       "AUTRE                  212\n",
       "COURSES                 39\n",
       "TRANSPORT               21\n",
       "RESTAURANT              16\n",
       "COTISATION BANCAIRE      7\n",
       "FACTURE TELEPHONE        7\n",
       "LOYER                    6\n",
       "Name: categ, dtype: int64"
      ]
     },
     "execution_count": 160,
     "metadata": {},
     "output_type": "execute_result"
    }
   ],
   "source": [
    "import pandas as pd\n",
    "data12 = pd.read_csv(\"ops.csv\")\n",
    "data12['categ'].value_counts()"
   ]
  },
  {
   "cell_type": "code",
   "execution_count": 161,
   "metadata": {},
   "outputs": [],
   "source": [
    "effectifs = data12[\"categ\"].value_counts()\n",
    "modalites = effectifs.index"
   ]
  },
  {
   "cell_type": "code",
   "execution_count": 162,
   "metadata": {},
   "outputs": [
    {
     "name": "stdout",
     "output_type": "stream",
     "text": [
      "                 categ\n",
      "0                AUTRE\n",
      "1              COURSES\n",
      "2            TRANSPORT\n",
      "3           RESTAURANT\n",
      "4  COTISATION BANCAIRE\n",
      "5    FACTURE TELEPHONE\n",
      "6                LOYER\n"
     ]
    }
   ],
   "source": [
    "tab = pd.DataFrame(modalites, columns = [\"categ\"]) #création du tableau à partir des modalités\n",
    "print(tab)"
   ]
  },
  {
   "cell_type": "code",
   "execution_count": 163,
   "metadata": {},
   "outputs": [
    {
     "data": {
      "text/html": [
       "<div>\n",
       "<style scoped>\n",
       "    .dataframe tbody tr th:only-of-type {\n",
       "        vertical-align: middle;\n",
       "    }\n",
       "\n",
       "    .dataframe tbody tr th {\n",
       "        vertical-align: top;\n",
       "    }\n",
       "\n",
       "    .dataframe thead th {\n",
       "        text-align: right;\n",
       "    }\n",
       "</style>\n",
       "<table border=\"1\" class=\"dataframe\">\n",
       "  <thead>\n",
       "    <tr style=\"text-align: right;\">\n",
       "      <th></th>\n",
       "      <th>categ</th>\n",
       "      <th>n</th>\n",
       "    </tr>\n",
       "  </thead>\n",
       "  <tbody>\n",
       "    <tr>\n",
       "      <th>0</th>\n",
       "      <td>AUTRE</td>\n",
       "      <td>212</td>\n",
       "    </tr>\n",
       "    <tr>\n",
       "      <th>1</th>\n",
       "      <td>COURSES</td>\n",
       "      <td>39</td>\n",
       "    </tr>\n",
       "    <tr>\n",
       "      <th>2</th>\n",
       "      <td>TRANSPORT</td>\n",
       "      <td>21</td>\n",
       "    </tr>\n",
       "    <tr>\n",
       "      <th>3</th>\n",
       "      <td>RESTAURANT</td>\n",
       "      <td>16</td>\n",
       "    </tr>\n",
       "    <tr>\n",
       "      <th>4</th>\n",
       "      <td>COTISATION BANCAIRE</td>\n",
       "      <td>7</td>\n",
       "    </tr>\n",
       "    <tr>\n",
       "      <th>5</th>\n",
       "      <td>FACTURE TELEPHONE</td>\n",
       "      <td>7</td>\n",
       "    </tr>\n",
       "    <tr>\n",
       "      <th>6</th>\n",
       "      <td>LOYER</td>\n",
       "      <td>6</td>\n",
       "    </tr>\n",
       "  </tbody>\n",
       "</table>\n",
       "</div>"
      ],
      "text/plain": [
       "                 categ    n\n",
       "0                AUTRE  212\n",
       "1              COURSES   39\n",
       "2            TRANSPORT   21\n",
       "3           RESTAURANT   16\n",
       "4  COTISATION BANCAIRE    7\n",
       "5    FACTURE TELEPHONE    7\n",
       "6                LOYER    6"
      ]
     },
     "execution_count": 163,
     "metadata": {},
     "output_type": "execute_result"
    }
   ],
   "source": [
    "tab[\"n\"] = effectifs.values\n",
    "tab"
   ]
  },
  {
   "cell_type": "code",
   "execution_count": 164,
   "metadata": {},
   "outputs": [
    {
     "data": {
      "text/html": [
       "<div>\n",
       "<style scoped>\n",
       "    .dataframe tbody tr th:only-of-type {\n",
       "        vertical-align: middle;\n",
       "    }\n",
       "\n",
       "    .dataframe tbody tr th {\n",
       "        vertical-align: top;\n",
       "    }\n",
       "\n",
       "    .dataframe thead th {\n",
       "        text-align: right;\n",
       "    }\n",
       "</style>\n",
       "<table border=\"1\" class=\"dataframe\">\n",
       "  <thead>\n",
       "    <tr style=\"text-align: right;\">\n",
       "      <th></th>\n",
       "      <th>categ</th>\n",
       "      <th>n</th>\n",
       "      <th>frequence</th>\n",
       "    </tr>\n",
       "  </thead>\n",
       "  <tbody>\n",
       "    <tr>\n",
       "      <th>0</th>\n",
       "      <td>AUTRE</td>\n",
       "      <td>212</td>\n",
       "      <td>0.688312</td>\n",
       "    </tr>\n",
       "    <tr>\n",
       "      <th>1</th>\n",
       "      <td>COURSES</td>\n",
       "      <td>39</td>\n",
       "      <td>0.126623</td>\n",
       "    </tr>\n",
       "    <tr>\n",
       "      <th>2</th>\n",
       "      <td>TRANSPORT</td>\n",
       "      <td>21</td>\n",
       "      <td>0.068182</td>\n",
       "    </tr>\n",
       "    <tr>\n",
       "      <th>3</th>\n",
       "      <td>RESTAURANT</td>\n",
       "      <td>16</td>\n",
       "      <td>0.051948</td>\n",
       "    </tr>\n",
       "    <tr>\n",
       "      <th>4</th>\n",
       "      <td>COTISATION BANCAIRE</td>\n",
       "      <td>7</td>\n",
       "      <td>0.022727</td>\n",
       "    </tr>\n",
       "    <tr>\n",
       "      <th>5</th>\n",
       "      <td>FACTURE TELEPHONE</td>\n",
       "      <td>7</td>\n",
       "      <td>0.022727</td>\n",
       "    </tr>\n",
       "    <tr>\n",
       "      <th>6</th>\n",
       "      <td>LOYER</td>\n",
       "      <td>6</td>\n",
       "      <td>0.019481</td>\n",
       "    </tr>\n",
       "  </tbody>\n",
       "</table>\n",
       "</div>"
      ],
      "text/plain": [
       "                 categ    n  frequence\n",
       "0                AUTRE  212   0.688312\n",
       "1              COURSES   39   0.126623\n",
       "2            TRANSPORT   21   0.068182\n",
       "3           RESTAURANT   16   0.051948\n",
       "4  COTISATION BANCAIRE    7   0.022727\n",
       "5    FACTURE TELEPHONE    7   0.022727\n",
       "6                LOYER    6   0.019481"
      ]
     },
     "execution_count": 164,
     "metadata": {},
     "output_type": "execute_result"
    }
   ],
   "source": [
    "tab[\"frequence\"] = tab[\"n\"]/ len(data12)\n",
    "tab"
   ]
  },
  {
   "cell_type": "code",
   "execution_count": 167,
   "metadata": {},
   "outputs": [
    {
     "data": {
      "text/html": [
       "<div>\n",
       "<style scoped>\n",
       "    .dataframe tbody tr th:only-of-type {\n",
       "        vertical-align: middle;\n",
       "    }\n",
       "\n",
       "    .dataframe tbody tr th {\n",
       "        vertical-align: top;\n",
       "    }\n",
       "\n",
       "    .dataframe thead th {\n",
       "        text-align: right;\n",
       "    }\n",
       "</style>\n",
       "<table border=\"1\" class=\"dataframe\">\n",
       "  <thead>\n",
       "    <tr style=\"text-align: right;\">\n",
       "      <th></th>\n",
       "      <th>categ</th>\n",
       "      <th>n</th>\n",
       "      <th>frequence</th>\n",
       "      <th>frequence cumulée</th>\n",
       "    </tr>\n",
       "  </thead>\n",
       "  <tbody>\n",
       "    <tr>\n",
       "      <th>0</th>\n",
       "      <td>AUTRE</td>\n",
       "      <td>212</td>\n",
       "      <td>0.688312</td>\n",
       "      <td>0.688312</td>\n",
       "    </tr>\n",
       "    <tr>\n",
       "      <th>4</th>\n",
       "      <td>COTISATION BANCAIRE</td>\n",
       "      <td>7</td>\n",
       "      <td>0.022727</td>\n",
       "      <td>0.711039</td>\n",
       "    </tr>\n",
       "    <tr>\n",
       "      <th>1</th>\n",
       "      <td>COURSES</td>\n",
       "      <td>39</td>\n",
       "      <td>0.126623</td>\n",
       "      <td>0.837662</td>\n",
       "    </tr>\n",
       "    <tr>\n",
       "      <th>5</th>\n",
       "      <td>FACTURE TELEPHONE</td>\n",
       "      <td>7</td>\n",
       "      <td>0.022727</td>\n",
       "      <td>0.860390</td>\n",
       "    </tr>\n",
       "    <tr>\n",
       "      <th>6</th>\n",
       "      <td>LOYER</td>\n",
       "      <td>6</td>\n",
       "      <td>0.019481</td>\n",
       "      <td>0.879870</td>\n",
       "    </tr>\n",
       "    <tr>\n",
       "      <th>3</th>\n",
       "      <td>RESTAURANT</td>\n",
       "      <td>16</td>\n",
       "      <td>0.051948</td>\n",
       "      <td>0.931818</td>\n",
       "    </tr>\n",
       "    <tr>\n",
       "      <th>2</th>\n",
       "      <td>TRANSPORT</td>\n",
       "      <td>21</td>\n",
       "      <td>0.068182</td>\n",
       "      <td>1.000000</td>\n",
       "    </tr>\n",
       "  </tbody>\n",
       "</table>\n",
       "</div>"
      ],
      "text/plain": [
       "                 categ    n  frequence  frequence cumulée\n",
       "0                AUTRE  212   0.688312           0.688312\n",
       "4  COTISATION BANCAIRE    7   0.022727           0.711039\n",
       "1              COURSES   39   0.126623           0.837662\n",
       "5    FACTURE TELEPHONE    7   0.022727           0.860390\n",
       "6                LOYER    6   0.019481           0.879870\n",
       "3           RESTAURANT   16   0.051948           0.931818\n",
       "2            TRANSPORT   21   0.068182           1.000000"
      ]
     },
     "execution_count": 167,
     "metadata": {},
     "output_type": "execute_result"
    }
   ],
   "source": [
    "tab = tab.sort_values(\"categ\") # tri des valeurs de la variable X (croissant)\n",
    "tab[\"frequence cumulée\"] = tab[\"frequence\"].cumsum()  # cumsum calcule la somme cumulée\n",
    "tab"
   ]
  },
  {
   "cell_type": "code",
   "execution_count": 171,
   "metadata": {},
   "outputs": [
    {
     "ename": "NameError",
     "evalue": "name 'subset' is not defined",
     "output_type": "error",
     "traceback": [
      "\u001b[0;31m---------------------------------------------------------------------------\u001b[0m",
      "\u001b[0;31mNameError\u001b[0m                                 Traceback (most recent call last)",
      "\u001b[0;32m<ipython-input-171-0e719781b87c>\u001b[0m in \u001b[0;36m<module>\u001b[0;34m()\u001b[0m\n\u001b[0;32m----> 1\u001b[0;31m \u001b[0;32mprint\u001b[0m\u001b[0;34m(\u001b[0m\u001b[0;34m\"moy:\\n\"\u001b[0m\u001b[0;34m,\u001b[0m\u001b[0msubset\u001b[0m\u001b[0;34m[\u001b[0m\u001b[0;34m'montant'\u001b[0m\u001b[0;34m]\u001b[0m\u001b[0;34m.\u001b[0m\u001b[0mmean\u001b[0m\u001b[0;34m(\u001b[0m\u001b[0;34m)\u001b[0m\u001b[0;34m)\u001b[0m\u001b[0;34m\u001b[0m\u001b[0m\n\u001b[0m\u001b[1;32m      2\u001b[0m \u001b[0;32mprint\u001b[0m\u001b[0;34m(\u001b[0m\u001b[0;34m\"med:\\n\"\u001b[0m\u001b[0;34m,\u001b[0m\u001b[0msubset\u001b[0m\u001b[0;34m[\u001b[0m\u001b[0;34m'montant'\u001b[0m\u001b[0;34m]\u001b[0m\u001b[0;34m.\u001b[0m\u001b[0mmedian\u001b[0m\u001b[0;34m(\u001b[0m\u001b[0;34m)\u001b[0m\u001b[0;34m)\u001b[0m\u001b[0;34m\u001b[0m\u001b[0m\n\u001b[1;32m      3\u001b[0m \u001b[0;32mprint\u001b[0m\u001b[0;34m(\u001b[0m\u001b[0;34m\"mod:\\n\"\u001b[0m\u001b[0;34m,\u001b[0m\u001b[0msubset\u001b[0m\u001b[0;34m[\u001b[0m\u001b[0;34m'montant'\u001b[0m\u001b[0;34m]\u001b[0m\u001b[0;34m.\u001b[0m\u001b[0mmode\u001b[0m\u001b[0;34m(\u001b[0m\u001b[0;34m)\u001b[0m\u001b[0;34m)\u001b[0m\u001b[0;34m\u001b[0m\u001b[0m\n\u001b[1;32m      4\u001b[0m \u001b[0;32mprint\u001b[0m\u001b[0;34m(\u001b[0m\u001b[0;34m\"var:\\n\"\u001b[0m\u001b[0;34m,\u001b[0m\u001b[0msubset\u001b[0m\u001b[0;34m[\u001b[0m\u001b[0;34m'montant'\u001b[0m\u001b[0;34m]\u001b[0m\u001b[0;34m.\u001b[0m\u001b[0mvar\u001b[0m\u001b[0;34m(\u001b[0m\u001b[0mddof\u001b[0m\u001b[0;34m=\u001b[0m\u001b[0;36m0\u001b[0m\u001b[0;34m)\u001b[0m\u001b[0;34m)\u001b[0m\u001b[0;34m\u001b[0m\u001b[0m\n\u001b[1;32m      5\u001b[0m \u001b[0;32mprint\u001b[0m\u001b[0;34m(\u001b[0m\u001b[0;34m\"ect:\\n\"\u001b[0m\u001b[0;34m,\u001b[0m\u001b[0msubset\u001b[0m\u001b[0;34m[\u001b[0m\u001b[0;34m'montant'\u001b[0m\u001b[0;34m]\u001b[0m\u001b[0;34m.\u001b[0m\u001b[0mstd\u001b[0m\u001b[0;34m(\u001b[0m\u001b[0mddof\u001b[0m\u001b[0;34m=\u001b[0m\u001b[0;36m0\u001b[0m\u001b[0;34m)\u001b[0m\u001b[0;34m)\u001b[0m\u001b[0;34m\u001b[0m\u001b[0m\n",
      "\u001b[0;31mNameError\u001b[0m: name 'subset' is not defined"
     ]
    }
   ],
   "source": [
    "print(\"moy:\\n\",subset['montant'].mean())\n",
    "print(\"med:\\n\",subset['montant'].median())\n",
    "print(\"mod:\\n\",subset['montant'].mode())\n",
    "print(\"var:\\n\",subset['montant'].var(ddof=0))\n",
    "print(\"ect:\\n\",subset['montant'].std(ddof=0))"
   ]
  },
  {
   "cell_type": "code",
   "execution_count": null,
   "metadata": {},
   "outputs": [],
   "source": []
  }
 ],
 "metadata": {
  "kernelspec": {
   "display_name": "Python 3",
   "language": "python",
   "name": "python3"
  },
  "language_info": {
   "codemirror_mode": {
    "name": "ipython",
    "version": 3
   },
   "file_extension": ".py",
   "mimetype": "text/x-python",
   "name": "python",
   "nbconvert_exporter": "python",
   "pygments_lexer": "ipython3",
   "version": "3.7.3"
  }
 },
 "nbformat": 4,
 "nbformat_minor": 2
}
